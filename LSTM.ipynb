{
  "nbformat": 4,
  "nbformat_minor": 0,
  "metadata": {
    "colab": {
      "name": "LSTM.ipynb",
      "provenance": [],
      "collapsed_sections": [],
      "authorship_tag": "ABX9TyN0jKNBBM8W9q2/qQkG+R3A",
      "include_colab_link": true
    },
    "kernelspec": {
      "name": "python3",
      "display_name": "Python 3"
    },
    "language_info": {
      "name": "python"
    },
    "accelerator": "GPU"
  },
  "cells": [
    {
      "cell_type": "markdown",
      "metadata": {
        "id": "view-in-github",
        "colab_type": "text"
      },
      "source": [
        "<a href=\"https://colab.research.google.com/github/JRKagumba/Capstone_2/blob/master/LSTM.ipynb\" target=\"_parent\"><img src=\"https://colab.research.google.com/assets/colab-badge.svg\" alt=\"Open In Colab\"/></a>"
      ]
    },
    {
      "cell_type": "markdown",
      "source": [
        "# 0 Import Libraries and Data"
      ],
      "metadata": {
        "id": "2sIU-EMdl1kH"
      }
    },
    {
      "cell_type": "code",
      "execution_count": null,
      "metadata": {
        "id": "vxHKQlUJkIL8"
      },
      "outputs": [],
      "source": [
        "# import libraries \n",
        "import pandas as pd # Import Pandas for data manipulation using dataframes\n",
        "import numpy as np # Import Numpy for data statistical analysis \n",
        "import matplotlib.pyplot as plt # Import matplotlib for data visualisation\n",
        "\n",
        "import random\n",
        "import seaborn as sns\n",
        "\n",
        "import torch\n",
        "import torch.nn as nn\n",
        "\n",
        "import plotly.offline as py\n",
        "from plotly.offline import init_notebook_mode, iplot\n",
        "import plotly.express as px\n",
        "import plotly.graph_objs as go\n",
        "from plotly.subplots import make_subplots\n",
        "\n",
        "# This relates to plotting datetime values with matplotlib:\n",
        "from pandas.plotting import register_matplotlib_converters\n",
        "register_matplotlib_converters()"
      ]
    },
    {
      "cell_type": "code",
      "source": [
        "from google.colab import drive\n",
        "drive.mount('/content/gdrive')\n",
        "\n",
        "realestate_df = pd.read_csv(\"/content/gdrive/MyDrive/Colab Notebooks/RealEstate/data_with_locations_and_ids.csv\")\n",
        "print(f\"Length before droping duplicate ids = {len(realestate_df)}\")\n",
        "realestate_df =realestate_df.drop_duplicates(subset=['id'], keep='first')\n",
        "print(f\"Length after droping duplicate ids = {len(realestate_df)}\")"
      ],
      "metadata": {
        "colab": {
          "base_uri": "https://localhost:8080/",
          "height": 381
        },
        "id": "7M6bvma6kZCN",
        "outputId": "f75e2dcb-4c89-431e-d36d-9e6004bdaf81"
      },
      "execution_count": null,
      "outputs": [
        {
          "output_type": "error",
          "ename": "MessageError",
          "evalue": "ignored",
          "traceback": [
            "\u001b[0;31m---------------------------------------------------------------------------\u001b[0m",
            "\u001b[0;31mMessageError\u001b[0m                              Traceback (most recent call last)",
            "\u001b[0;32m<ipython-input-2-9d1dd06887e0>\u001b[0m in \u001b[0;36m<module>\u001b[0;34m()\u001b[0m\n\u001b[1;32m      1\u001b[0m \u001b[0;32mfrom\u001b[0m \u001b[0mgoogle\u001b[0m\u001b[0;34m.\u001b[0m\u001b[0mcolab\u001b[0m \u001b[0;32mimport\u001b[0m \u001b[0mdrive\u001b[0m\u001b[0;34m\u001b[0m\u001b[0;34m\u001b[0m\u001b[0m\n\u001b[0;32m----> 2\u001b[0;31m \u001b[0mdrive\u001b[0m\u001b[0;34m.\u001b[0m\u001b[0mmount\u001b[0m\u001b[0;34m(\u001b[0m\u001b[0;34m'/content/gdrive'\u001b[0m\u001b[0;34m)\u001b[0m\u001b[0;34m\u001b[0m\u001b[0;34m\u001b[0m\u001b[0m\n\u001b[0m\u001b[1;32m      3\u001b[0m \u001b[0;34m\u001b[0m\u001b[0m\n\u001b[1;32m      4\u001b[0m \u001b[0mrealestate_df\u001b[0m \u001b[0;34m=\u001b[0m \u001b[0mpd\u001b[0m\u001b[0;34m.\u001b[0m\u001b[0mread_csv\u001b[0m\u001b[0;34m(\u001b[0m\u001b[0;34m\"/content/gdrive/MyDrive/Colab Notebooks/RealEstate/data_with_locations_and_ids.csv\"\u001b[0m\u001b[0;34m)\u001b[0m\u001b[0;34m\u001b[0m\u001b[0;34m\u001b[0m\u001b[0m\n\u001b[1;32m      5\u001b[0m \u001b[0mprint\u001b[0m\u001b[0;34m(\u001b[0m\u001b[0;34mf\"Length before droping duplicate ids = {len(realestate_df)}\"\u001b[0m\u001b[0;34m)\u001b[0m\u001b[0;34m\u001b[0m\u001b[0;34m\u001b[0m\u001b[0m\n",
            "\u001b[0;32m/usr/local/lib/python3.7/dist-packages/google/colab/drive.py\u001b[0m in \u001b[0;36mmount\u001b[0;34m(mountpoint, force_remount, timeout_ms)\u001b[0m\n\u001b[1;32m    107\u001b[0m       \u001b[0mforce_remount\u001b[0m\u001b[0;34m=\u001b[0m\u001b[0mforce_remount\u001b[0m\u001b[0;34m,\u001b[0m\u001b[0;34m\u001b[0m\u001b[0;34m\u001b[0m\u001b[0m\n\u001b[1;32m    108\u001b[0m       \u001b[0mtimeout_ms\u001b[0m\u001b[0;34m=\u001b[0m\u001b[0mtimeout_ms\u001b[0m\u001b[0;34m,\u001b[0m\u001b[0;34m\u001b[0m\u001b[0;34m\u001b[0m\u001b[0m\n\u001b[0;32m--> 109\u001b[0;31m       ephemeral=True)\n\u001b[0m\u001b[1;32m    110\u001b[0m \u001b[0;34m\u001b[0m\u001b[0m\n\u001b[1;32m    111\u001b[0m \u001b[0;34m\u001b[0m\u001b[0m\n",
            "\u001b[0;32m/usr/local/lib/python3.7/dist-packages/google/colab/drive.py\u001b[0m in \u001b[0;36m_mount\u001b[0;34m(mountpoint, force_remount, timeout_ms, ephemeral)\u001b[0m\n\u001b[1;32m    122\u001b[0m   \u001b[0;32mif\u001b[0m \u001b[0mephemeral\u001b[0m\u001b[0;34m:\u001b[0m\u001b[0;34m\u001b[0m\u001b[0;34m\u001b[0m\u001b[0m\n\u001b[1;32m    123\u001b[0m     _message.blocking_request(\n\u001b[0;32m--> 124\u001b[0;31m         'request_auth', request={'authType': 'dfs_ephemeral'}, timeout_sec=None)\n\u001b[0m\u001b[1;32m    125\u001b[0m \u001b[0;34m\u001b[0m\u001b[0m\n\u001b[1;32m    126\u001b[0m   \u001b[0mmountpoint\u001b[0m \u001b[0;34m=\u001b[0m \u001b[0m_os\u001b[0m\u001b[0;34m.\u001b[0m\u001b[0mpath\u001b[0m\u001b[0;34m.\u001b[0m\u001b[0mexpanduser\u001b[0m\u001b[0;34m(\u001b[0m\u001b[0mmountpoint\u001b[0m\u001b[0;34m)\u001b[0m\u001b[0;34m\u001b[0m\u001b[0;34m\u001b[0m\u001b[0m\n",
            "\u001b[0;32m/usr/local/lib/python3.7/dist-packages/google/colab/_message.py\u001b[0m in \u001b[0;36mblocking_request\u001b[0;34m(request_type, request, timeout_sec, parent)\u001b[0m\n\u001b[1;32m    173\u001b[0m   request_id = send_request(\n\u001b[1;32m    174\u001b[0m       request_type, request, parent=parent, expect_reply=True)\n\u001b[0;32m--> 175\u001b[0;31m   \u001b[0;32mreturn\u001b[0m \u001b[0mread_reply_from_input\u001b[0m\u001b[0;34m(\u001b[0m\u001b[0mrequest_id\u001b[0m\u001b[0;34m,\u001b[0m \u001b[0mtimeout_sec\u001b[0m\u001b[0;34m)\u001b[0m\u001b[0;34m\u001b[0m\u001b[0;34m\u001b[0m\u001b[0m\n\u001b[0m",
            "\u001b[0;32m/usr/local/lib/python3.7/dist-packages/google/colab/_message.py\u001b[0m in \u001b[0;36mread_reply_from_input\u001b[0;34m(message_id, timeout_sec)\u001b[0m\n\u001b[1;32m    104\u001b[0m         reply.get('colab_msg_id') == message_id):\n\u001b[1;32m    105\u001b[0m       \u001b[0;32mif\u001b[0m \u001b[0;34m'error'\u001b[0m \u001b[0;32min\u001b[0m \u001b[0mreply\u001b[0m\u001b[0;34m:\u001b[0m\u001b[0;34m\u001b[0m\u001b[0;34m\u001b[0m\u001b[0m\n\u001b[0;32m--> 106\u001b[0;31m         \u001b[0;32mraise\u001b[0m \u001b[0mMessageError\u001b[0m\u001b[0;34m(\u001b[0m\u001b[0mreply\u001b[0m\u001b[0;34m[\u001b[0m\u001b[0;34m'error'\u001b[0m\u001b[0;34m]\u001b[0m\u001b[0;34m)\u001b[0m\u001b[0;34m\u001b[0m\u001b[0;34m\u001b[0m\u001b[0m\n\u001b[0m\u001b[1;32m    107\u001b[0m       \u001b[0;32mreturn\u001b[0m \u001b[0mreply\u001b[0m\u001b[0;34m.\u001b[0m\u001b[0mget\u001b[0m\u001b[0;34m(\u001b[0m\u001b[0;34m'data'\u001b[0m\u001b[0;34m,\u001b[0m \u001b[0;32mNone\u001b[0m\u001b[0;34m)\u001b[0m\u001b[0;34m\u001b[0m\u001b[0;34m\u001b[0m\u001b[0m\n\u001b[1;32m    108\u001b[0m \u001b[0;34m\u001b[0m\u001b[0m\n",
            "\u001b[0;31mMessageError\u001b[0m: Error: credential propagation was unsuccessful"
          ]
        }
      ]
    },
    {
      "cell_type": "code",
      "source": [
        "sample_df=realestate_df.sample(frac=0.95, replace=False, random_state=99)\n",
        "sample_df[\"Price\"] = pd.to_numeric(sample_df[\"Price\"], downcast=\"float\")\n",
        "sample_df['Time_Posted'] = sample_df['Time_Posted'].values.astype('datetime64[ns]')\n",
        "sample_df.head(3)"
      ],
      "metadata": {
        "id": "xSoenyGInHRV"
      },
      "execution_count": null,
      "outputs": []
    },
    {
      "cell_type": "code",
      "source": [
        "print(f\"Length before removing outliers = {len(sample_df)}\")\n",
        "\n",
        "listings=sample_df['Listing_Type'].unique()\n",
        "dataframe_list=[]\n",
        "\n",
        "for value in listings:\n",
        "    df = sample_df[sample_df.Listing_Type==value]\n",
        "    q_low = df[\"Price\"].quantile(0.05)\n",
        "    q_hi  = df[\"Price\"].quantile(0.95)\n",
        "    df = df[(df[\"Price\"] < q_hi) & (df[\"Price\"] > q_low)]\n",
        "    \n",
        "    dataframe_list.append(df)\n",
        "    \n",
        "sample_df = pd.concat(dataframe_list, axis=0, ignore_index=True) \n",
        "\n",
        "print(f\"Length after removing outliers = {len(sample_df)}\")"
      ],
      "metadata": {
        "id": "vv72mqTBzpGx"
      },
      "execution_count": null,
      "outputs": []
    },
    {
      "cell_type": "code",
      "source": [
        "listing_type_dict={}\n",
        "\n",
        "listing_types=sample_df['Listing_Type'].unique()\n",
        "\n",
        "for type in listing_types:\n",
        "    listing_type_dict[type]=sample_df[sample_df['Listing_Type']==type]\n",
        "\n",
        "print(listing_type_dict.keys())"
      ],
      "metadata": {
        "id": "8edzFR3lyEgW"
      },
      "execution_count": null,
      "outputs": []
    },
    {
      "cell_type": "markdown",
      "source": [
        "# 1 EDA"
      ],
      "metadata": {
        "id": "ZdbQs3lCl7hV"
      }
    },
    {
      "cell_type": "code",
      "source": [
        "fig = make_subplots(rows=len(listing_types),subplot_titles=[listing for listing in listing_types])\n",
        "\n",
        "for index, listing in enumerate(listing_types):\n",
        "\n",
        "\n",
        "    df=listing_type_dict[listing][['Time_Posted', 'Price']].groupby(pd.Grouper(key=\"Time_Posted\", freq=\"1W\")).agg({'Price': ['median', 'mean']}).dropna()\n",
        "    df.columns=df.columns.map('_'.join)\n",
        "    df=df.reset_index()\n",
        "\n",
        "    data1=go.Scatter(x=df['Time_Posted'], y=df['Price_median'],\n",
        "                        mode='lines',\n",
        "                        name='median',\n",
        "                        line=dict(color='#abd7eb'))\n",
        "    data2=go.Scatter(x=df['Time_Posted'], y=df['Price_mean'],\n",
        "                        mode='lines',\n",
        "                        name='mean',\n",
        "                        line=dict(color='#F47174'))\n",
        "\n",
        "    fig.add_traces([data1,data2],rows=(index+1),cols=1)\n",
        "\n",
        "\n",
        "\n",
        "\n",
        "fig.update_layout(title_text=f\"Listing Price and Time\", height=2000)\n",
        "fig.show()"
      ],
      "metadata": {
        "id": "km7vVg55s4So"
      },
      "execution_count": null,
      "outputs": []
    },
    {
      "cell_type": "code",
      "source": [
        "print('Listing Types')\n",
        "print(sample_df['Listing_Type'].unique())\n",
        "print()\n",
        "print('Sub Regions')\n",
        "print(sample_df['Sub_Region'].value_counts().head(20).index)"
      ],
      "metadata": {
        "id": "VJwJRDw01_Ct"
      },
      "execution_count": null,
      "outputs": []
    },
    {
      "cell_type": "code",
      "source": [
        "_specify= (sample_df['Listing_Type']=='Apartments-Condos') & (sample_df['Sub_Region']=='Toronto')"
      ],
      "metadata": {
        "id": "PHVIWVJ93bst"
      },
      "execution_count": null,
      "outputs": []
    },
    {
      "cell_type": "code",
      "source": [
        "df=sample_df[_specify][['Time_Posted', 'Price']].groupby(pd.Grouper(key=\"Time_Posted\", freq=\"1W\")).agg({'Price': ['median', 'mean']}).dropna()\n",
        "df.columns=df.columns.map('_'.join)\n",
        "mean_df=df[['Price_mean']]\n",
        "median_df=df[['Price_median']]\n",
        "\n",
        "df.head()"
      ],
      "metadata": {
        "id": "NzAFM6kzj68t"
      },
      "execution_count": null,
      "outputs": []
    },
    {
      "cell_type": "code",
      "source": [
        "df.plot(figsize=(24,4))"
      ],
      "metadata": {
        "id": "ZbUPpMx6kqaN"
      },
      "execution_count": null,
      "outputs": []
    },
    {
      "cell_type": "markdown",
      "source": [
        "# 2 Setting Up for Modeling"
      ],
      "metadata": {
        "id": "9BYpaQXam4hQ"
      }
    },
    {
      "cell_type": "code",
      "source": [
        "y=df['Price_median'].values\n",
        "\n",
        "test_size=4\n",
        "train_set=y[:-test_size]\n",
        "test_set=y[-test_size:]"
      ],
      "metadata": {
        "id": "UjXLnl7alM0S"
      },
      "execution_count": null,
      "outputs": []
    },
    {
      "cell_type": "code",
      "source": [
        "from sklearn.preprocessing import MinMaxScaler\n",
        "\n",
        "scaler = MinMaxScaler(feature_range=(-1,1))\n",
        "scaler.fit(train_set.reshape(-1,1))\n",
        "train_norm=scaler.transform(train_set.reshape(-1,1))\n",
        "train_norm"
      ],
      "metadata": {
        "id": "taIvpApRnfUc"
      },
      "execution_count": null,
      "outputs": []
    },
    {
      "cell_type": "code",
      "source": [
        "train_norm = torch.FloatTensor(train_norm).view(-1)\n",
        "train_norm"
      ],
      "metadata": {
        "id": "JBERon4QniWr"
      },
      "execution_count": null,
      "outputs": []
    },
    {
      "cell_type": "code",
      "source": [
        "window_size=4\n",
        "\n",
        "# Define function to create seq/label tuples\n",
        "def input_data(_sequence,_windowsize):\n",
        "    out = []\n",
        "    L = len(_sequence)\n",
        "\n",
        "    for i in range(L-_windowsize):\n",
        "        window = _sequence[i:i+_windowsize]\n",
        "        label = _sequence[i+_windowsize:i+_windowsize+1]\n",
        "        out.append((window,label))\n",
        "    return out\n",
        "\n",
        "# Apply the input_data function to train_norm\n",
        "train_data = input_data(train_norm,window_size)\n",
        "len(train_data)  # this should equal len(original data)-len(test size)-len(window size)"
      ],
      "metadata": {
        "id": "6Uo9MvtHpLXl"
      },
      "execution_count": null,
      "outputs": []
    },
    {
      "cell_type": "markdown",
      "source": [
        "# 3 Define Model"
      ],
      "metadata": {
        "id": "MD-mJdglrJLx"
      }
    },
    {
      "cell_type": "code",
      "source": [
        "class LSTMnetwork(nn.Module):\n",
        "    def __init__(self,input_size=1,hidden_size=100,output_size=1):\n",
        "        super().__init__()\n",
        "        self.hidden_size = hidden_size\n",
        "        \n",
        "        # Add an LSTM layer:\n",
        "        self.lstm = nn.LSTM(input_size,hidden_size)\n",
        "        \n",
        "        # Add a fully-connected layer:\n",
        "        self.linear = nn.Linear(hidden_size,output_size)\n",
        "        \n",
        "        # Initialize h0 and c0:\n",
        "        self.hidden = (torch.zeros(1,1,self.hidden_size),\n",
        "                       torch.zeros(1,1,self.hidden_size))\n",
        "\n",
        "    def forward(self,seq):\n",
        "        lstm_out, self.hidden = self.lstm(\n",
        "            seq.view(len(seq),1,-1), self.hidden)\n",
        "        pred = self.linear(lstm_out.view(len(seq),-1))\n",
        "        return pred[-1]  # we only want the last value"
      ],
      "metadata": {
        "id": "6AFgEup0qN5-"
      },
      "execution_count": null,
      "outputs": []
    },
    {
      "cell_type": "code",
      "source": [
        "torch.manual_seed(101)\n",
        "model = LSTMnetwork()\n",
        "\n",
        "criterion = nn.MSELoss()\n",
        "optimizer = torch.optim.Adam(model.parameters(), lr=0.001)\n",
        "\n",
        "model"
      ],
      "metadata": {
        "id": "suiTNqvXq4x9"
      },
      "execution_count": null,
      "outputs": []
    },
    {
      "cell_type": "code",
      "source": [
        "epochs = 20000\n",
        "\n",
        "import time\n",
        "start_time = time.time()\n",
        "\n",
        "for epoch in range(epochs):\n",
        "    \n",
        "    # extract the sequence & label from the training data\n",
        "    for seq, y_train in train_data:\n",
        "        \n",
        "        # reset the parameters and hidden states\n",
        "        optimizer.zero_grad()\n",
        "        model.hidden = (torch.zeros(1,1,model.hidden_size),\n",
        "                        torch.zeros(1,1,model.hidden_size))\n",
        "        \n",
        "        y_pred = model(seq)\n",
        "        \n",
        "        loss = criterion(y_pred, y_train)\n",
        "        loss.backward()\n",
        "        optimizer.step()\n",
        "    \n",
        " \n",
        "    if epoch%1000 == 1:\n",
        "        \n",
        "    # print training result\n",
        "      print(f'Epoch: {epoch+1:2} Loss: {loss.item():10.8f}')\n",
        "    \n",
        "print(f'\\nDuration: {time.time() - start_time:.0f} seconds')"
      ],
      "metadata": {
        "id": "ifiZXHOjroSC"
      },
      "execution_count": null,
      "outputs": []
    },
    {
      "cell_type": "markdown",
      "source": [
        "# 4 Compare with Test Set"
      ],
      "metadata": {
        "id": "_XtbfypXskGU"
      }
    },
    {
      "cell_type": "code",
      "source": [
        "future = 12\n",
        "\n",
        "# Add the last window of training values to the list of predictions\n",
        "preds = train_norm[-window_size:].tolist()\n",
        "\n",
        "# Set the model to evaluation mode\n",
        "model.eval()\n",
        "\n",
        "for i in range(future):\n",
        "    seq = torch.FloatTensor(preds[-window_size:])\n",
        "    with torch.no_grad():\n",
        "        model.hidden = (torch.zeros(1,1,model.hidden_size),\n",
        "                        torch.zeros(1,1,model.hidden_size))\n",
        "        preds.append(model(seq).item())\n",
        "\n",
        "\n",
        "preds[window_size:] \n"
      ],
      "metadata": {
        "id": "IUIKLki3sKBh"
      },
      "execution_count": null,
      "outputs": []
    },
    {
      "cell_type": "code",
      "source": [
        "true_predictions = scaler.inverse_transform(np.array(preds[window_size:]).reshape(-1, 1))\n",
        "true_predictions"
      ],
      "metadata": {
        "id": "cj3Z9mgEs9O9"
      },
      "execution_count": null,
      "outputs": []
    },
    {
      "cell_type": "code",
      "source": [
        "df['Price_median'][-12:]"
      ],
      "metadata": {
        "id": "TjeeKSjAtJpk"
      },
      "execution_count": null,
      "outputs": []
    },
    {
      "cell_type": "code",
      "source": [
        "time_change = df.index[-1]-df.index[-2]\n",
        "time_change"
      ],
      "metadata": {
        "id": "-RmczAbOvvnT"
      },
      "execution_count": null,
      "outputs": []
    },
    {
      "cell_type": "code",
      "source": [
        "min_range=df['Price_mean'][-12:].index.min()\n",
        "max_range=df['Price_mean'][-12:].index.max()\n",
        "\n",
        "x = np.arange(min_range, max_range+time_change, dtype='datetime64[W]').astype('datetime64[D]')\n",
        "x"
      ],
      "metadata": {
        "id": "DI83F-4EtmC6"
      },
      "execution_count": null,
      "outputs": []
    },
    {
      "cell_type": "code",
      "source": [
        "plt.figure(figsize=(24,4))\n",
        "plt.title('Listing Price')\n",
        "plt.ylabel('Price')\n",
        "plt.grid(True)\n",
        "plt.autoscale(axis='x',tight=True)\n",
        "plt.plot(df['Price_median'])\n",
        "plt.plot(x,true_predictions)\n",
        "plt.show()"
      ],
      "metadata": {
        "id": "vnsNIE2Etsg6"
      },
      "execution_count": null,
      "outputs": []
    },
    {
      "cell_type": "code",
      "source": [
        "x.shape"
      ],
      "metadata": {
        "id": "yL7FnAZYuwHg"
      },
      "execution_count": null,
      "outputs": []
    },
    {
      "cell_type": "markdown",
      "source": [
        "# 5 Forecast into unknown future"
      ],
      "metadata": {
        "id": "6ppazs0IQ99H"
      }
    },
    {
      "cell_type": "code",
      "source": [
        "epochs = 20000\n",
        "\n",
        "# set model back to training mode\n",
        "model.train()\n",
        "\n",
        "# feature scale the entire dataset\n",
        "y_norm = scaler.fit_transform(y.reshape(-1, 1))\n",
        "y_norm = torch.FloatTensor(y_norm).view(-1)\n",
        "all_data = input_data(y_norm,window_size)\n",
        "\n",
        "import time\n",
        "start_time = time.time()\n",
        "\n",
        "for epoch in range(epochs):\n",
        "    \n",
        "    # train on the full set of sequences\n",
        "    for seq, y_train in all_data:  \n",
        "        \n",
        "        # reset the parameters and hidden states\n",
        "        optimizer.zero_grad()\n",
        "        model.hidden = (torch.zeros(1,1,model.hidden_size),\n",
        "                        torch.zeros(1,1,model.hidden_size))\n",
        "        \n",
        "        y_pred = model(seq)\n",
        "        \n",
        "        loss = criterion(y_pred, y_train)\n",
        "        loss.backward()\n",
        "        optimizer.step()\n",
        "\n",
        "    if epoch%500 == 1:  \n",
        "    # print training result\n",
        "      print(f'Epoch: {epoch+1:2} Loss: {loss.item():10.8f}')\n",
        "    \n",
        "print(f'\\nDuration: {time.time() - start_time:.0f} seconds')"
      ],
      "metadata": {
        "id": "1gIMklKwvRo0"
      },
      "execution_count": null,
      "outputs": []
    },
    {
      "cell_type": "code",
      "source": [
        "window_size = 12\n",
        "future = 12\n",
        "L = len(y)\n",
        "\n",
        "preds = y_norm[-window_size:].tolist()\n",
        "\n",
        "model.eval()\n",
        "for i in range(future):  \n",
        "    seq = torch.FloatTensor(preds[-window_size:])\n",
        "    with torch.no_grad():\n",
        "        # Reset the hidden parameters here!\n",
        "        model.hidden = (torch.zeros(1,1,model.hidden_size),\n",
        "                        torch.zeros(1,1,model.hidden_size))  \n",
        "        preds.append(model(seq).item())\n",
        "\n",
        "# Inverse-normalize the prediction set\n",
        "true_predictions = scaler.inverse_transform(np.array(preds).reshape(-1, 1))"
      ],
      "metadata": {
        "id": "HMXWKa16vTvz"
      },
      "execution_count": null,
      "outputs": []
    },
    {
      "cell_type": "code",
      "source": [
        "true_predictions.shape"
      ],
      "metadata": {
        "id": "Y2ahuHPnSJlG"
      },
      "execution_count": null,
      "outputs": []
    },
    {
      "cell_type": "code",
      "source": [
        "min_range=df['Price_mean'][-window_size:].index.min()\n",
        "max_range=df['Price_mean'][-window_size:].index.max()\n",
        "\n",
        "time_change = df.index[-1]-df.index[-2]\n",
        "time_change"
      ],
      "metadata": {
        "id": "QJ2EDDWjPxOw"
      },
      "execution_count": null,
      "outputs": []
    },
    {
      "cell_type": "code",
      "source": [
        "future_min_range=max_range+time_change\n",
        "future_max_range=max_range+(time_change*(window_size+1))"
      ],
      "metadata": {
        "id": "0MZqqJe9R0vW"
      },
      "execution_count": null,
      "outputs": []
    },
    {
      "cell_type": "code",
      "source": [
        "x = np.arange(future_min_range, future_max_range, dtype='datetime64[W]').astype('datetime64[D]')\n",
        "x.shape"
      ],
      "metadata": {
        "id": "t4cV_xSoSYSN"
      },
      "execution_count": null,
      "outputs": []
    },
    {
      "cell_type": "code",
      "source": [
        "# PLOT THE RESULT\n",
        "# Set a data range for the predicted data.\n",
        "# Remember that the stop date has to be later than the last predicted value.\n",
        "\n",
        "\n",
        "\n",
        "plt.figure(figsize=(24,4))\n",
        "plt.title('Listing Price')\n",
        "plt.ylabel('Price')\n",
        "plt.grid(True)\n",
        "plt.autoscale(axis='x',tight=True)\n",
        "plt.plot(df['Price_median'])\n",
        "plt.plot(x,true_predictions[window_size:])\n",
        "plt.show()"
      ],
      "metadata": {
        "id": "0BzZ6aMbOpZg"
      },
      "execution_count": null,
      "outputs": []
    },
    {
      "cell_type": "code",
      "source": [
        ""
      ],
      "metadata": {
        "id": "q0uM6XjWPlpy"
      },
      "execution_count": null,
      "outputs": []
    }
  ]
}